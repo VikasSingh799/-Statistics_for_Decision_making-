{
 "cells": [
  {
   "cell_type": "code",
   "execution_count": 1,
   "id": "bdc4796a",
   "metadata": {},
   "outputs": [
    {
     "data": {
      "text/html": [
       "<div>\n",
       "<style scoped>\n",
       "    .dataframe tbody tr th:only-of-type {\n",
       "        vertical-align: middle;\n",
       "    }\n",
       "\n",
       "    .dataframe tbody tr th {\n",
       "        vertical-align: top;\n",
       "    }\n",
       "\n",
       "    .dataframe thead th {\n",
       "        text-align: right;\n",
       "    }\n",
       "</style>\n",
       "<table border=\"1\" class=\"dataframe\">\n",
       "  <thead>\n",
       "    <tr style=\"text-align: right;\">\n",
       "      <th></th>\n",
       "      <th>Suburb</th>\n",
       "      <th>Address</th>\n",
       "      <th>Rooms</th>\n",
       "      <th>Type</th>\n",
       "      <th>Price</th>\n",
       "      <th>Method</th>\n",
       "      <th>SellerG</th>\n",
       "      <th>Date</th>\n",
       "      <th>Distance</th>\n",
       "      <th>Postcode</th>\n",
       "      <th>...</th>\n",
       "      <th>Bathroom</th>\n",
       "      <th>Car</th>\n",
       "      <th>Landsize</th>\n",
       "      <th>BuildingArea</th>\n",
       "      <th>YearBuilt</th>\n",
       "      <th>CouncilArea</th>\n",
       "      <th>Lattitude</th>\n",
       "      <th>Longtitude</th>\n",
       "      <th>Regionname</th>\n",
       "      <th>Propertycount</th>\n",
       "    </tr>\n",
       "  </thead>\n",
       "  <tbody>\n",
       "    <tr>\n",
       "      <th>0</th>\n",
       "      <td>Abbotsford</td>\n",
       "      <td>85 Turner St</td>\n",
       "      <td>2</td>\n",
       "      <td>h</td>\n",
       "      <td>1480000.0</td>\n",
       "      <td>S</td>\n",
       "      <td>Biggin</td>\n",
       "      <td>3/12/2016</td>\n",
       "      <td>2.5</td>\n",
       "      <td>3067.0</td>\n",
       "      <td>...</td>\n",
       "      <td>1.0</td>\n",
       "      <td>1.0</td>\n",
       "      <td>202.0</td>\n",
       "      <td>NaN</td>\n",
       "      <td>NaN</td>\n",
       "      <td>Yarra</td>\n",
       "      <td>-37.7996</td>\n",
       "      <td>144.9984</td>\n",
       "      <td>Northern Metropolitan</td>\n",
       "      <td>4019.0</td>\n",
       "    </tr>\n",
       "    <tr>\n",
       "      <th>1</th>\n",
       "      <td>Abbotsford</td>\n",
       "      <td>25 Bloomburg St</td>\n",
       "      <td>2</td>\n",
       "      <td>h</td>\n",
       "      <td>1035000.0</td>\n",
       "      <td>S</td>\n",
       "      <td>Biggin</td>\n",
       "      <td>4/02/2016</td>\n",
       "      <td>2.5</td>\n",
       "      <td>3067.0</td>\n",
       "      <td>...</td>\n",
       "      <td>1.0</td>\n",
       "      <td>0.0</td>\n",
       "      <td>156.0</td>\n",
       "      <td>79.0</td>\n",
       "      <td>1900.0</td>\n",
       "      <td>Yarra</td>\n",
       "      <td>-37.8079</td>\n",
       "      <td>144.9934</td>\n",
       "      <td>Northern Metropolitan</td>\n",
       "      <td>4019.0</td>\n",
       "    </tr>\n",
       "    <tr>\n",
       "      <th>2</th>\n",
       "      <td>Abbotsford</td>\n",
       "      <td>5 Charles St</td>\n",
       "      <td>3</td>\n",
       "      <td>h</td>\n",
       "      <td>1465000.0</td>\n",
       "      <td>SP</td>\n",
       "      <td>Biggin</td>\n",
       "      <td>4/03/2017</td>\n",
       "      <td>2.5</td>\n",
       "      <td>3067.0</td>\n",
       "      <td>...</td>\n",
       "      <td>2.0</td>\n",
       "      <td>0.0</td>\n",
       "      <td>134.0</td>\n",
       "      <td>150.0</td>\n",
       "      <td>1900.0</td>\n",
       "      <td>Yarra</td>\n",
       "      <td>-37.8093</td>\n",
       "      <td>144.9944</td>\n",
       "      <td>Northern Metropolitan</td>\n",
       "      <td>4019.0</td>\n",
       "    </tr>\n",
       "    <tr>\n",
       "      <th>3</th>\n",
       "      <td>Abbotsford</td>\n",
       "      <td>40 Federation La</td>\n",
       "      <td>3</td>\n",
       "      <td>h</td>\n",
       "      <td>850000.0</td>\n",
       "      <td>PI</td>\n",
       "      <td>Biggin</td>\n",
       "      <td>4/03/2017</td>\n",
       "      <td>2.5</td>\n",
       "      <td>3067.0</td>\n",
       "      <td>...</td>\n",
       "      <td>2.0</td>\n",
       "      <td>1.0</td>\n",
       "      <td>94.0</td>\n",
       "      <td>NaN</td>\n",
       "      <td>NaN</td>\n",
       "      <td>Yarra</td>\n",
       "      <td>-37.7969</td>\n",
       "      <td>144.9969</td>\n",
       "      <td>Northern Metropolitan</td>\n",
       "      <td>4019.0</td>\n",
       "    </tr>\n",
       "    <tr>\n",
       "      <th>4</th>\n",
       "      <td>Abbotsford</td>\n",
       "      <td>55a Park St</td>\n",
       "      <td>4</td>\n",
       "      <td>h</td>\n",
       "      <td>1600000.0</td>\n",
       "      <td>VB</td>\n",
       "      <td>Nelson</td>\n",
       "      <td>4/06/2016</td>\n",
       "      <td>2.5</td>\n",
       "      <td>3067.0</td>\n",
       "      <td>...</td>\n",
       "      <td>1.0</td>\n",
       "      <td>2.0</td>\n",
       "      <td>120.0</td>\n",
       "      <td>142.0</td>\n",
       "      <td>2014.0</td>\n",
       "      <td>Yarra</td>\n",
       "      <td>-37.8072</td>\n",
       "      <td>144.9941</td>\n",
       "      <td>Northern Metropolitan</td>\n",
       "      <td>4019.0</td>\n",
       "    </tr>\n",
       "  </tbody>\n",
       "</table>\n",
       "<p>5 rows × 21 columns</p>\n",
       "</div>"
      ],
      "text/plain": [
       "       Suburb           Address  Rooms Type      Price Method SellerG  \\\n",
       "0  Abbotsford      85 Turner St      2    h  1480000.0      S  Biggin   \n",
       "1  Abbotsford   25 Bloomburg St      2    h  1035000.0      S  Biggin   \n",
       "2  Abbotsford      5 Charles St      3    h  1465000.0     SP  Biggin   \n",
       "3  Abbotsford  40 Federation La      3    h   850000.0     PI  Biggin   \n",
       "4  Abbotsford       55a Park St      4    h  1600000.0     VB  Nelson   \n",
       "\n",
       "        Date  Distance  Postcode  ...  Bathroom  Car  Landsize  BuildingArea  \\\n",
       "0  3/12/2016       2.5    3067.0  ...       1.0  1.0     202.0           NaN   \n",
       "1  4/02/2016       2.5    3067.0  ...       1.0  0.0     156.0          79.0   \n",
       "2  4/03/2017       2.5    3067.0  ...       2.0  0.0     134.0         150.0   \n",
       "3  4/03/2017       2.5    3067.0  ...       2.0  1.0      94.0           NaN   \n",
       "4  4/06/2016       2.5    3067.0  ...       1.0  2.0     120.0         142.0   \n",
       "\n",
       "   YearBuilt  CouncilArea Lattitude  Longtitude             Regionname  \\\n",
       "0        NaN        Yarra  -37.7996    144.9984  Northern Metropolitan   \n",
       "1     1900.0        Yarra  -37.8079    144.9934  Northern Metropolitan   \n",
       "2     1900.0        Yarra  -37.8093    144.9944  Northern Metropolitan   \n",
       "3        NaN        Yarra  -37.7969    144.9969  Northern Metropolitan   \n",
       "4     2014.0        Yarra  -37.8072    144.9941  Northern Metropolitan   \n",
       "\n",
       "  Propertycount  \n",
       "0        4019.0  \n",
       "1        4019.0  \n",
       "2        4019.0  \n",
       "3        4019.0  \n",
       "4        4019.0  \n",
       "\n",
       "[5 rows x 21 columns]"
      ]
     },
     "execution_count": 1,
     "metadata": {},
     "output_type": "execute_result"
    }
   ],
   "source": [
    "import pandas as pd\n",
    "import numpy as np\n",
    "import matplotlib.pyplot as plt\n",
    "import seaborn as sns\n",
    "import scipy.stats as stats\n",
    "from scipy.stats import shapiro, levene\n",
    "from scipy.stats import mannwhitneyu\n",
    "df = pd.read_csv(r\"E:\\5 Python\\property.csv\") \n",
    "df.head()"
   ]
  },
  {
   "cell_type": "code",
   "execution_count": 10,
   "id": "de241e30",
   "metadata": {},
   "outputs": [
    {
     "name": "stdout",
     "output_type": "stream",
     "text": [
      "<class 'pandas.core.frame.DataFrame'>\n",
      "RangeIndex: 13580 entries, 0 to 13579\n",
      "Data columns (total 21 columns):\n",
      " #   Column         Non-Null Count  Dtype         \n",
      "---  ------         --------------  -----         \n",
      " 0   Suburb         13580 non-null  object        \n",
      " 1   Address        13580 non-null  object        \n",
      " 2   Rooms          13580 non-null  int64         \n",
      " 3   Type           13580 non-null  object        \n",
      " 4   Price          13580 non-null  float64       \n",
      " 5   Method         13580 non-null  object        \n",
      " 6   SellerG        13580 non-null  object        \n",
      " 7   Date           13580 non-null  datetime64[ns]\n",
      " 8   Distance       13580 non-null  float64       \n",
      " 9   Postcode       13580 non-null  float64       \n",
      " 10  Bedroom2       13580 non-null  float64       \n",
      " 11  Bathroom       13580 non-null  float64       \n",
      " 12  Car            13518 non-null  float64       \n",
      " 13  Landsize       13580 non-null  float64       \n",
      " 14  BuildingArea   7130 non-null   float64       \n",
      " 15  YearBuilt      8205 non-null   float64       \n",
      " 16  CouncilArea    12211 non-null  object        \n",
      " 17  Lattitude      13580 non-null  float64       \n",
      " 18  Longtitude     13580 non-null  float64       \n",
      " 19  Regionname     13580 non-null  object        \n",
      " 20  Propertycount  13580 non-null  float64       \n",
      "dtypes: datetime64[ns](1), float64(12), int64(1), object(7)\n",
      "memory usage: 2.2+ MB\n"
     ]
    }
   ],
   "source": [
    "# data cleaning\n",
    "df['Date'] = pd.to_datetime(df['Date'], dayfirst=True, errors='coerce')\n",
    "df.info()"
   ]
  },
  {
   "cell_type": "markdown",
   "id": "bf0419c8",
   "metadata": {},
   "source": [
    "## Q2 : For the year 2016, is there any difference in prices of properties sold in the summer months vs winter months? Consider months from October till March as winter months and the rest as summer months. Use a significance level of 5%."
   ]
  },
  {
   "cell_type": "code",
   "execution_count": 3,
   "id": "8693e5d6",
   "metadata": {},
   "outputs": [],
   "source": [
    "data_2016 = df[df['Date'].dt.year == 2016]# Filter data for the year 2016\n",
    "\n",
    "# Separate data into winter (October to March) and summer (April to September)\n",
    "winter_months = data_2016[data_2016['Date'].dt.month.isin([10, 11, 12, 1, 2, 3])]\n",
    "summer_months = data_2016[data_2016['Date'].dt.month.isin([4, 5, 6, 7, 8, 9])]\n",
    "\n",
    "# Extract prices for each group\n",
    "winter_prices = winter_months['Price']\n",
    "summer_prices = summer_months['Price']"
   ]
  },
  {
   "cell_type": "markdown",
   "id": "10026de8",
   "metadata": {},
   "source": [
    "# Normality Test \n",
    "### Ho(null Hypothisis ) : Data for Winter/Summer Price is normal\n",
    "### Ha(alternate Hypothisis) : Data for Winter/Summer Price is not normal\n",
    "\n",
    "# -------------  Apply shapiro test  -------------- #"
   ]
  },
  {
   "cell_type": "code",
   "execution_count": 5,
   "id": "e1b07dd3",
   "metadata": {},
   "outputs": [
    {
     "name": "stdout",
     "output_type": "stream",
     "text": [
      "Shapiro-Wilk Test: Stat=0.8233, P-value=0.000000\n",
      "  -> Reject the null hypothesis: Data for Winter price is not normal.\n"
     ]
    }
   ],
   "source": [
    "stat, p_value = stats.shapiro(winter_prices)  # Directly use the Series\n",
    "print(f\"Shapiro-Wilk Test: Stat={stat:.4f}, P-value={p_value:.6f}\")\n",
    "\n",
    "# Hypothesis testing\n",
    "if p_value < 0.05:\n",
    "    print(\"  -> Reject the null hypothesis: Data for Winter price is not normal.\")\n",
    "else:\n",
    "    print(\"  -> Fail to reject the null hypothesis: Data for Winter price is normal.\")"
   ]
  },
  {
   "cell_type": "code",
   "execution_count": 6,
   "id": "90b972f1",
   "metadata": {},
   "outputs": [
    {
     "name": "stdout",
     "output_type": "stream",
     "text": [
      "Shapiro-Wilk Test: Stat=0.8512, P-value=0.0000\n",
      "  -> Reject the null hypothesis: Data for Summer price is not normal.\n"
     ]
    }
   ],
   "source": [
    "stat, p_value = stats.shapiro(summer_prices)  # Directly use the Series\n",
    "print(f\"Shapiro-Wilk Test: Stat={stat:.4f}, P-value={p_value:.4f}\")\n",
    "\n",
    "# Hypothesis testing\n",
    "if p_value < 0.05:\n",
    "    print(\"  -> Reject the null hypothesis: Data for Summer price is not normal.\")\n",
    "else:\n",
    "    print(\"  -> Fail to reject the null hypothesis: Data for Summer price is normal.\")"
   ]
  },
  {
   "cell_type": "code",
   "execution_count": 7,
   "id": "489a31e4",
   "metadata": {},
   "outputs": [
    {
     "data": {
      "image/png": "[encoded data removed]",
      "text/plain": [
       "<Figure size 800x400 with 2 Axes>"
      ]
     },
     "metadata": {},
     "output_type": "display_data"
    }
   ],
   "source": [
    "plt.figure(figsize=(8, 4))  # dimension of the graphs\n",
    "\n",
    "plt.subplot(2, 2, 1)  # defining the position of the 1st graph\n",
    "sns.histplot(winter_prices, bins=30, kde=True, color='darkblue')# Plot Winter prices\n",
    "plt.title('Distribution of Prices - Winter')\n",
    "\n",
    "plt.subplot(2, 2, 2)   # defining the position of the 2nd graph\n",
    "sns.histplot(summer_prices, bins=30, kde=True, color='darkblue')# Plot Summer prices\n",
    "plt.title('Distribution of Prices - Summer')\n",
    "\n",
    "plt.tight_layout()# Adjust layout for better spacing\n",
    "plt.show()"
   ]
  },
  {
   "cell_type": "markdown",
   "id": "d8accd54",
   "metadata": {},
   "source": [
    "**Conclusion:**\n",
    "- Winter Price Data:\n",
    "Since the P-value is less than 0.05, we reject the null hypothesis. The data for winter prices is not normally distributed.\n",
    "\n",
    "- Summer Price Data:\n",
    "Similarly, the P-value is less than 0.05, leading to the rejection of the null hypothesis. The data for summer prices is also not normally distributed.\n",
    "\n",
    "**Implications:**\n",
    "- Non-Normality :\n",
    "Neither dataset follows a normal distribution. This means that statistical methods relying on normality assumptions, such as t-tests or ANOVA, are not suitable for this data.\n",
    "\n",
    "**Alternative Approaches:**\n",
    "- Consider using non-parametric tests:\n",
    "For comparing independent data (e.g., winter prices vs. summer prices), use the Mann-Whitney U Test."
   ]
  },
  {
   "cell_type": "markdown",
   "id": "08cea61e",
   "metadata": {},
   "source": [
    "# ------------ variance Test ------------\n",
    "### Ho (null Hypothisis ): variance are equal\n",
    "### Ha (alternate Hypothisis): variance are not equal"
   ]
  },
  {
   "cell_type": "code",
   "execution_count": 8,
   "id": "7fc8e50a",
   "metadata": {},
   "outputs": [
    {
     "name": "stdout",
     "output_type": "stream",
     "text": [
      "Variance Test (Levene's Test) for Winter And Summer prices is:\n",
      "Levene's Test: Stat=9.0608, P-value=0.0026\n",
      "  -> Reject the null hypothesis: Variances are not equal.\n"
     ]
    }
   ],
   "source": [
    "\n",
    "print(\"Variance Test (Levene's Test) for Winter And Summer prices is:\")\n",
    "stat, p_value = stats.levene(winter_prices,summer_prices)\n",
    "\n",
    "print(f\"Levene's Test: Stat={stat:.4f}, P-value={p_value:.4f}\")\n",
    "if p_value < 0.05:\n",
    "    print(\"  -> Reject the null hypothesis: Variances are not equal.\")\n",
    "else:\n",
    "    print(\"  -> Fail to reject the null hypothesis: Variances are equal.\")"
   ]
  },
  {
   "cell_type": "markdown",
   "id": "4e00862c",
   "metadata": {},
   "source": [
    "**Conclusion:**\n",
    "This above result indicates that the variances of winter and summer prices are not equal. In other words, the data shows evidence of heteroscedasticity (unequal variability) between the two price distributions."
   ]
  },
  {
   "cell_type": "markdown",
   "id": "af44db9d",
   "metadata": {},
   "source": [
    "## Mann-Whitney U Test\n",
    "\n",
    "- **Null Hypothesis (𝐻0): There is no difference in the mean property prices between summer and winter months.**\n",
    "- **Alternative Hypothesis (𝐻1): There is a difference in the mean property prices between summer and winter months.**\n",
    "\n",
    "**Interpret Results:**\n",
    "\n",
    "- **If the p-value < 0.05, reject the null hypothesis. There is evidence of a significant difference in prices.**\n",
    "- **If the p-value ≥ 0.05, fail to reject the null hypothesis. There is no significant difference in prices.**"
   ]
  },
  {
   "cell_type": "code",
   "execution_count": 9,
   "id": "5893a2f1",
   "metadata": {},
   "outputs": [
    {
     "name": "stdout",
     "output_type": "stream",
     "text": [
      "Mann-Whitney U Test: Stat=4909922.0000, P-value=0.000125\n",
      "Reject the null hypothesis: There is a significant difference in property prices between summer and winter months.\n"
     ]
    }
   ],
   "source": [
    "from scipy.stats import mannwhitneyu\n",
    "stat, p_value = mannwhitneyu(winter_prices, summer_prices, alternative='two-sided')\n",
    "\n",
    "print(f\"Mann-Whitney U Test: Stat={stat:.4f}, P-value={p_value:.6f}\")\n",
    "\n",
    "# Hypothesis testing Conclusion\n",
    "if p_value < 0.05:\n",
    "    print(\"Reject the null hypothesis: There is a significant difference in property prices between summer and winter months.\")\n",
    "else:\n",
    "    print(\"Fail to reject the null hypothesis: There is no significant difference in property prices between summer and winter months.\")"
   ]
  },
  {
   "cell_type": "markdown",
   "id": "03640b5d",
   "metadata": {},
   "source": [
    "**Conclusion:**\n",
    "- Since the P-value (0.000125) is much less than 0.05, we reject the null hypothesis.\n",
    "This indicates that there is a statistically significant difference in property prices between the summer and winter months.\n"
   ]
  },
  {
   "cell_type": "markdown",
   "id": "e7273e9f",
   "metadata": {},
   "source": [
    "**Seasonal Variation:**\n",
    "The significant difference suggests that property prices vary meaningfully between the two seasons. This could be due to factors such as market demand, seasonal preferences, or changes in property availability.\n",
    "\n",
    "**Practical Impact:**\n",
    "If we can analyze market trends or advising on buying/selling strategies, this insight can help highlight the influence of seasonality on property prices.\n",
    "\n",
    "**Non-Normality and Unequal Variance:**\n",
    "The Mann-Whitney U test was appropriate here because the data for both seasons was not normally distributed (as determined by the Shapiro-Wilk test) and had unequal variances (per Levene's test)."
   ]
  },
  {
   "cell_type": "code",
   "execution_count": null,
   "id": "80968d18",
   "metadata": {},
   "outputs": [],
   "source": []
  }
 ],
 "metadata": {
  "kernelspec": {
   "display_name": "Python 3 (ipykernel)",
   "language": "python",
   "name": "python3"
  },
  "language_info": {
   "codemirror_mode": {
    "name": "ipython",
    "version": 3
   },
   "file_extension": ".py",
   "mimetype": "text/x-python",
   "name": "python",
   "nbconvert_exporter": "python",
   "pygments_lexer": "ipython3",
   "version": "3.11.5"
  }
 },
 "nbformat": 4,
 "nbformat_minor": 5
}
