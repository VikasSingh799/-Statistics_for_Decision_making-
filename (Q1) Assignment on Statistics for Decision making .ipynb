{
 "cells": [
  {
   "cell_type": "code",
   "execution_count": 1,
   "id": "242a9af8",
   "metadata": {},
   "outputs": [
    {
     "data": {
      "text/html": [
       "<div>\n",
       "<style scoped>\n",
       "    .dataframe tbody tr th:only-of-type {\n",
       "        vertical-align: middle;\n",
       "    }\n",
       "\n",
       "    .dataframe tbody tr th {\n",
       "        vertical-align: top;\n",
       "    }\n",
       "\n",
       "    .dataframe thead th {\n",
       "        text-align: right;\n",
       "    }\n",
       "</style>\n",
       "<table border=\"1\" class=\"dataframe\">\n",
       "  <thead>\n",
       "    <tr style=\"text-align: right;\">\n",
       "      <th></th>\n",
       "      <th>Suburb</th>\n",
       "      <th>Address</th>\n",
       "      <th>Rooms</th>\n",
       "      <th>Type</th>\n",
       "      <th>Price</th>\n",
       "      <th>Method</th>\n",
       "      <th>SellerG</th>\n",
       "      <th>Date</th>\n",
       "      <th>Distance</th>\n",
       "      <th>Postcode</th>\n",
       "      <th>...</th>\n",
       "      <th>Bathroom</th>\n",
       "      <th>Car</th>\n",
       "      <th>Landsize</th>\n",
       "      <th>BuildingArea</th>\n",
       "      <th>YearBuilt</th>\n",
       "      <th>CouncilArea</th>\n",
       "      <th>Lattitude</th>\n",
       "      <th>Longtitude</th>\n",
       "      <th>Regionname</th>\n",
       "      <th>Propertycount</th>\n",
       "    </tr>\n",
       "  </thead>\n",
       "  <tbody>\n",
       "    <tr>\n",
       "      <th>0</th>\n",
       "      <td>Abbotsford</td>\n",
       "      <td>85 Turner St</td>\n",
       "      <td>2</td>\n",
       "      <td>h</td>\n",
       "      <td>1480000.0</td>\n",
       "      <td>S</td>\n",
       "      <td>Biggin</td>\n",
       "      <td>3/12/2016</td>\n",
       "      <td>2.5</td>\n",
       "      <td>3067.0</td>\n",
       "      <td>...</td>\n",
       "      <td>1.0</td>\n",
       "      <td>1.0</td>\n",
       "      <td>202.0</td>\n",
       "      <td>NaN</td>\n",
       "      <td>NaN</td>\n",
       "      <td>Yarra</td>\n",
       "      <td>-37.7996</td>\n",
       "      <td>144.9984</td>\n",
       "      <td>Northern Metropolitan</td>\n",
       "      <td>4019.0</td>\n",
       "    </tr>\n",
       "    <tr>\n",
       "      <th>1</th>\n",
       "      <td>Abbotsford</td>\n",
       "      <td>25 Bloomburg St</td>\n",
       "      <td>2</td>\n",
       "      <td>h</td>\n",
       "      <td>1035000.0</td>\n",
       "      <td>S</td>\n",
       "      <td>Biggin</td>\n",
       "      <td>4/02/2016</td>\n",
       "      <td>2.5</td>\n",
       "      <td>3067.0</td>\n",
       "      <td>...</td>\n",
       "      <td>1.0</td>\n",
       "      <td>0.0</td>\n",
       "      <td>156.0</td>\n",
       "      <td>79.0</td>\n",
       "      <td>1900.0</td>\n",
       "      <td>Yarra</td>\n",
       "      <td>-37.8079</td>\n",
       "      <td>144.9934</td>\n",
       "      <td>Northern Metropolitan</td>\n",
       "      <td>4019.0</td>\n",
       "    </tr>\n",
       "    <tr>\n",
       "      <th>2</th>\n",
       "      <td>Abbotsford</td>\n",
       "      <td>5 Charles St</td>\n",
       "      <td>3</td>\n",
       "      <td>h</td>\n",
       "      <td>1465000.0</td>\n",
       "      <td>SP</td>\n",
       "      <td>Biggin</td>\n",
       "      <td>4/03/2017</td>\n",
       "      <td>2.5</td>\n",
       "      <td>3067.0</td>\n",
       "      <td>...</td>\n",
       "      <td>2.0</td>\n",
       "      <td>0.0</td>\n",
       "      <td>134.0</td>\n",
       "      <td>150.0</td>\n",
       "      <td>1900.0</td>\n",
       "      <td>Yarra</td>\n",
       "      <td>-37.8093</td>\n",
       "      <td>144.9944</td>\n",
       "      <td>Northern Metropolitan</td>\n",
       "      <td>4019.0</td>\n",
       "    </tr>\n",
       "    <tr>\n",
       "      <th>3</th>\n",
       "      <td>Abbotsford</td>\n",
       "      <td>40 Federation La</td>\n",
       "      <td>3</td>\n",
       "      <td>h</td>\n",
       "      <td>850000.0</td>\n",
       "      <td>PI</td>\n",
       "      <td>Biggin</td>\n",
       "      <td>4/03/2017</td>\n",
       "      <td>2.5</td>\n",
       "      <td>3067.0</td>\n",
       "      <td>...</td>\n",
       "      <td>2.0</td>\n",
       "      <td>1.0</td>\n",
       "      <td>94.0</td>\n",
       "      <td>NaN</td>\n",
       "      <td>NaN</td>\n",
       "      <td>Yarra</td>\n",
       "      <td>-37.7969</td>\n",
       "      <td>144.9969</td>\n",
       "      <td>Northern Metropolitan</td>\n",
       "      <td>4019.0</td>\n",
       "    </tr>\n",
       "    <tr>\n",
       "      <th>4</th>\n",
       "      <td>Abbotsford</td>\n",
       "      <td>55a Park St</td>\n",
       "      <td>4</td>\n",
       "      <td>h</td>\n",
       "      <td>1600000.0</td>\n",
       "      <td>VB</td>\n",
       "      <td>Nelson</td>\n",
       "      <td>4/06/2016</td>\n",
       "      <td>2.5</td>\n",
       "      <td>3067.0</td>\n",
       "      <td>...</td>\n",
       "      <td>1.0</td>\n",
       "      <td>2.0</td>\n",
       "      <td>120.0</td>\n",
       "      <td>142.0</td>\n",
       "      <td>2014.0</td>\n",
       "      <td>Yarra</td>\n",
       "      <td>-37.8072</td>\n",
       "      <td>144.9941</td>\n",
       "      <td>Northern Metropolitan</td>\n",
       "      <td>4019.0</td>\n",
       "    </tr>\n",
       "  </tbody>\n",
       "</table>\n",
       "<p>5 rows × 21 columns</p>\n",
       "</div>"
      ],
      "text/plain": [
       "       Suburb           Address  Rooms Type      Price Method SellerG  \\\n",
       "0  Abbotsford      85 Turner St      2    h  1480000.0      S  Biggin   \n",
       "1  Abbotsford   25 Bloomburg St      2    h  1035000.0      S  Biggin   \n",
       "2  Abbotsford      5 Charles St      3    h  1465000.0     SP  Biggin   \n",
       "3  Abbotsford  40 Federation La      3    h   850000.0     PI  Biggin   \n",
       "4  Abbotsford       55a Park St      4    h  1600000.0     VB  Nelson   \n",
       "\n",
       "        Date  Distance  Postcode  ...  Bathroom  Car  Landsize  BuildingArea  \\\n",
       "0  3/12/2016       2.5    3067.0  ...       1.0  1.0     202.0           NaN   \n",
       "1  4/02/2016       2.5    3067.0  ...       1.0  0.0     156.0          79.0   \n",
       "2  4/03/2017       2.5    3067.0  ...       2.0  0.0     134.0         150.0   \n",
       "3  4/03/2017       2.5    3067.0  ...       2.0  1.0      94.0           NaN   \n",
       "4  4/06/2016       2.5    3067.0  ...       1.0  2.0     120.0         142.0   \n",
       "\n",
       "   YearBuilt  CouncilArea Lattitude  Longtitude             Regionname  \\\n",
       "0        NaN        Yarra  -37.7996    144.9984  Northern Metropolitan   \n",
       "1     1900.0        Yarra  -37.8079    144.9934  Northern Metropolitan   \n",
       "2     1900.0        Yarra  -37.8093    144.9944  Northern Metropolitan   \n",
       "3        NaN        Yarra  -37.7969    144.9969  Northern Metropolitan   \n",
       "4     2014.0        Yarra  -37.8072    144.9941  Northern Metropolitan   \n",
       "\n",
       "  Propertycount  \n",
       "0        4019.0  \n",
       "1        4019.0  \n",
       "2        4019.0  \n",
       "3        4019.0  \n",
       "4        4019.0  \n",
       "\n",
       "[5 rows x 21 columns]"
      ]
     },
     "execution_count": 1,
     "metadata": {},
     "output_type": "execute_result"
    }
   ],
   "source": [
    "import pandas as pd\n",
    "import numpy as np\n",
    "import matplotlib.pyplot as plt\n",
    "import seaborn as sns\n",
    "import scipy.stats as stats\n",
    "from scipy.stats import ttest_ind, shapiro, levene\n",
    "from scipy.stats import wilcoxon\n",
    "df = pd.read_csv(r\"E:\\5 Python\\property.csv\") \n",
    "df.head()"
   ]
  },
  {
   "cell_type": "code",
   "execution_count": 2,
   "id": "176be78c",
   "metadata": {},
   "outputs": [
    {
     "data": {
      "text/plain": [
       "(13580, 21)"
      ]
     },
     "execution_count": 2,
     "metadata": {},
     "output_type": "execute_result"
    }
   ],
   "source": [
    "df.shape"
   ]
  },
  {
   "cell_type": "code",
   "execution_count": 3,
   "id": "7c1e0ee9",
   "metadata": {},
   "outputs": [
    {
     "name": "stdout",
     "output_type": "stream",
     "text": [
      "<class 'pandas.core.frame.DataFrame'>\n",
      "RangeIndex: 13580 entries, 0 to 13579\n",
      "Data columns (total 21 columns):\n",
      " #   Column         Non-Null Count  Dtype  \n",
      "---  ------         --------------  -----  \n",
      " 0   Suburb         13580 non-null  object \n",
      " 1   Address        13580 non-null  object \n",
      " 2   Rooms          13580 non-null  int64  \n",
      " 3   Type           13580 non-null  object \n",
      " 4   Price          13580 non-null  float64\n",
      " 5   Method         13580 non-null  object \n",
      " 6   SellerG        13580 non-null  object \n",
      " 7   Date           13580 non-null  object \n",
      " 8   Distance       13580 non-null  float64\n",
      " 9   Postcode       13580 non-null  float64\n",
      " 10  Bedroom2       13580 non-null  float64\n",
      " 11  Bathroom       13580 non-null  float64\n",
      " 12  Car            13518 non-null  float64\n",
      " 13  Landsize       13580 non-null  float64\n",
      " 14  BuildingArea   7130 non-null   float64\n",
      " 15  YearBuilt      8205 non-null   float64\n",
      " 16  CouncilArea    12211 non-null  object \n",
      " 17  Lattitude      13580 non-null  float64\n",
      " 18  Longtitude     13580 non-null  float64\n",
      " 19  Regionname     13580 non-null  object \n",
      " 20  Propertycount  13580 non-null  float64\n",
      "dtypes: float64(12), int64(1), object(8)\n",
      "memory usage: 2.2+ MB\n"
     ]
    }
   ],
   "source": [
    "df.info()"
   ]
  },
  {
   "cell_type": "markdown",
   "id": "aabf4bb4",
   "metadata": {},
   "source": [
    "## Q1 : For the suburb Altona, it is postulated that a typical property sells for 800,000 dollar. Use the data at hand to test this assumption. Is the typical property price really 800,000 dollar or has it increased? Use a significance level of 5%."
   ]
  },
  {
   "cell_type": "code",
   "execution_count": 4,
   "id": "6a927286",
   "metadata": {},
   "outputs": [
    {
     "data": {
      "text/plain": [
       "array(['Abbotsford', 'Airport West', 'Albert Park', 'Alphington',\n",
       "       'Altona', 'Altona North', 'Armadale', 'Ascot Vale', 'Ashburton',\n",
       "       'Ashwood', 'Avondale Heights', 'Balaclava', 'Balwyn',\n",
       "       'Balwyn North', 'Bentleigh', 'Bentleigh East', 'Box Hill',\n",
       "       'Braybrook', 'Brighton', 'Brighton East', 'Brunswick',\n",
       "       'Brunswick West', 'Bulleen', 'Burwood', 'Camberwell', 'Canterbury',\n",
       "       'Carlton North', 'Carnegie', 'Caulfield', 'Caulfield North',\n",
       "       'Caulfield South', 'Chadstone', 'Clifton Hill', 'Coburg',\n",
       "       'Coburg North', 'Collingwood', 'Doncaster', 'Eaglemont',\n",
       "       'Elsternwick', 'Elwood', 'Essendon', 'Essendon North', 'Fairfield',\n",
       "       'Fitzroy', 'Fitzroy North', 'Flemington', 'Footscray', 'Glen Iris',\n",
       "       'Glenroy', 'Gowanbrae', 'Hadfield', 'Hampton', 'Hampton East',\n",
       "       'Hawthorn', 'Heidelberg Heights', 'Heidelberg West', 'Hughesdale',\n",
       "       'Ivanhoe', 'Kealba', 'Keilor East', 'Kensington', 'Kew',\n",
       "       'Kew East', 'Kooyong', 'Maidstone', 'Malvern', 'Malvern East',\n",
       "       'Maribyrnong', 'Melbourne', 'Middle Park', 'Mont Albert',\n",
       "       'Moonee Ponds', 'Moorabbin', 'Newport', 'Niddrie',\n",
       "       'North Melbourne', 'Northcote', 'Oak Park', 'Oakleigh South',\n",
       "       'Parkville', 'Pascoe Vale', 'Port Melbourne', 'Prahran', 'Preston',\n",
       "       'Reservoir', 'Richmond', 'Rosanna', 'Seddon', 'South Melbourne',\n",
       "       'South Yarra', 'Southbank', 'Spotswood', 'St Kilda', 'Strathmore',\n",
       "       'Sunshine', 'Sunshine North', 'Sunshine West', 'Surrey Hills',\n",
       "       'Templestowe Lower', 'Thornbury', 'Toorak', 'Viewbank', 'Watsonia',\n",
       "       'West Melbourne', 'Williamstown', 'Williamstown North', 'Windsor',\n",
       "       'Yallambie', 'Yarraville', 'Aberfeldie', 'Bellfield',\n",
       "       'Brunswick East', 'Burnley', 'Campbellfield', 'Carlton',\n",
       "       'East Melbourne', 'Essendon West', 'Fawkner', 'Hawthorn East',\n",
       "       'Heidelberg', 'Ivanhoe East', 'Jacana', 'Kingsbury', 'Kingsville',\n",
       "       'Murrumbeena', 'Ormond', 'West Footscray', 'Albion', 'Brooklyn',\n",
       "       'Glen Huntly', 'Oakleigh', 'Ripponlea', 'Cremorne', 'Docklands',\n",
       "       'South Kingsville', 'Strathmore Heights', 'Travancore',\n",
       "       'Caulfield East', 'Seaholme', 'Keilor Park', 'Gardenvale',\n",
       "       'Princes Hill', 'Bayswater', 'Bayswater North', 'Beaumaris',\n",
       "       'Berwick', 'Boronia', 'Briar Hill', 'Broadmeadows', 'Bundoora',\n",
       "       'Burnside Heights', 'Burwood East', 'Cairnlea', 'Caroline Springs',\n",
       "       'Cheltenham', 'Craigieburn', 'Cranbourne', 'Croydon', 'Dandenong',\n",
       "       'Dandenong North', 'Diamond Creek', 'Dingley Village',\n",
       "       'Doncaster East', 'Donvale', 'Doreen', 'Eltham', 'Epping',\n",
       "       'Forest Hill', 'Frankston', 'Frankston North', 'Frankston South',\n",
       "       'Gisborne', 'Gladstone Park', 'Greensborough', 'Hallam',\n",
       "       'Healesville', 'Highett', 'Hillside', 'Huntingdale',\n",
       "       'Keilor Downs', 'Keilor Lodge', 'Keysborough', 'Kings Park',\n",
       "       'Lalor', 'Lower Plenty', 'Melton', 'Mernda', 'Mill Park',\n",
       "       'Mitcham', 'Montmorency', 'Mordialloc', 'Mount Waverley',\n",
       "       'Narre Warren', 'Nunawading', 'Oakleigh East', 'Parkdale',\n",
       "       'Point Cook', 'Ringwood East', 'Rockbank', 'Rowville',\n",
       "       'Sandringham', 'Seaford', 'Skye', 'South Morang', 'Springvale',\n",
       "       'St Albans', 'Sunbury', 'Tarneit', 'Taylors Hill', 'Taylors Lakes',\n",
       "       'The Basin', 'Thomastown', 'Truganina', 'Tullamarine', 'Vermont',\n",
       "       'Wantirna', 'Wantirna South', 'Werribee', 'Westmeadows',\n",
       "       'Williams Landing', 'Wollert', 'Wyndham Vale', 'Black Rock',\n",
       "       'Blackburn', 'Blackburn North', 'Bonbeach', 'Carrum', 'Chelsea',\n",
       "       'Clayton', 'Doveton', 'Ferntree Gully', 'Glen Waverley',\n",
       "       'Greenvale', 'Heathmont', 'Hoppers Crossing', 'McKinnon',\n",
       "       'Melton South', 'Melton West', 'Mentone', 'Mooroolbark',\n",
       "       'Mulgrave', 'Ringwood', 'Roxburgh Park', 'Seabrook', 'Templestowe',\n",
       "       'Vermont South', 'Warrandyte', 'Watsonia North', 'Wheelers Hill',\n",
       "       'Altona Meadows', 'Blackburn South', 'Carrum Downs',\n",
       "       'Clayton South', 'Croydon North', 'Langwarrin', 'Noble Park',\n",
       "       'Notting Hill', 'Ringwood North', 'Sydenham', 'Albanvale',\n",
       "       'Beaconsfield Upper', 'Chelsea Heights', 'Dallas', 'Deer Park',\n",
       "       'Eltham North', 'Keilor', 'Meadow Heights', 'Mount Evelyn',\n",
       "       'North Warrandyte', 'Pakenham', 'Riddells Creek', 'Sandhurst',\n",
       "       'Scoresby', 'Silvan', 'Aspendale', 'Chirnside Park',\n",
       "       'Croydon Hills', 'Croydon South', 'Derrimut', 'Diggers Rest',\n",
       "       'Edithvale', 'Hampton Park', 'Knoxfield', 'St Helena', 'Upwey',\n",
       "       'Bacchus Marsh', 'Coolaroo', 'Cranbourne North', 'Kilsyth',\n",
       "       'Montrose', 'Aspendale Gardens', 'Bullengarook', 'Clarinda',\n",
       "       'Deepdene', 'Delahey', 'Hurstbridge', 'Kurunjang', 'Wonga Park',\n",
       "       'Endeavour Hills', 'Officer', 'Waterways', 'Ardeer',\n",
       "       'Beaconsfield', 'Springvale South', 'Yarra Glen', 'Brookfield',\n",
       "       'Emerald', 'Whittlesea', 'Burnside', 'Attwood', 'Wallan',\n",
       "       'New Gisborne', 'Plumpton', 'Monbulk'], dtype=object)"
      ]
     },
     "execution_count": 4,
     "metadata": {},
     "output_type": "execute_result"
    }
   ],
   "source": [
    "df['Suburb'].unique()"
   ]
  },
  {
   "cell_type": "code",
   "execution_count": 5,
   "id": "af2bae37",
   "metadata": {},
   "outputs": [
    {
     "data": {
      "text/plain": [
       "Suburb    74\n",
       "Price     74\n",
       "dtype: int64"
      ]
     },
     "execution_count": 5,
     "metadata": {},
     "output_type": "execute_result"
    }
   ],
   "source": [
    "# Create a new DataFrame for Altona with Suburb and Price columns\n",
    "altona_df = df[df['Suburb'] == 'Altona'][['Suburb', 'Price']]\n",
    "altona_df.count()"
   ]
  },
  {
   "cell_type": "code",
   "execution_count": 6,
   "id": "74bbf92a",
   "metadata": {},
   "outputs": [
    {
     "data": {
      "text/plain": [
       "141       520000.0\n",
       "142      1525000.0\n",
       "143       720000.0\n",
       "144      1120000.0\n",
       "145       780000.0\n",
       "           ...    \n",
       "12216     913000.0\n",
       "12432     458000.0\n",
       "12634    1248500.0\n",
       "13338     920000.0\n",
       "13339     801250.0\n",
       "Name: Price, Length: 74, dtype: float64"
      ]
     },
     "execution_count": 6,
     "metadata": {},
     "output_type": "execute_result"
    }
   ],
   "source": [
    "altona_df['Price']"
   ]
  },
  {
   "cell_type": "markdown",
   "id": "e3b38b0f",
   "metadata": {},
   "source": [
    "# Normality Test \n",
    "### Ho(null Hypothisis ) : Data for Altona is normal\n",
    "### Ha(alternate Hypothisis) : Data for Altona is not normal\n",
    "\n",
    "# -------------  Apply shapiro test  -------------- #"
   ]
  },
  {
   "cell_type": "code",
   "execution_count": 7,
   "id": "a12311df",
   "metadata": {},
   "outputs": [
    {
     "name": "stdout",
     "output_type": "stream",
     "text": [
      "Normality Test (Shapiro-Wilk Test) for Altona:\n",
      "Shapiro-Wilk Test: Stat=0.9355, P-value=0.0009\n",
      "  -> Reject the null hypothesis: Data for Altona is not normal.\n"
     ]
    }
   ],
   "source": [
    "print(\"Normality Test (Shapiro-Wilk Test) for Altona:\")\n",
    "stat, p_value = stats.shapiro(altona_df['Price'])  # Directly use the Series\n",
    "print(f\"Shapiro-Wilk Test: Stat={stat:.4f}, P-value={p_value:.4f}\")\n",
    "\n",
    "# Hypothesis testing\n",
    "if p_value < 0.05:\n",
    "    print(\"  -> Reject the null hypothesis: Data for Altona is not normal.\")\n",
    "else:\n",
    "    print(\"  -> Fail to reject the null hypothesis: Data for Altona is normal.\")"
   ]
  },
  {
   "cell_type": "code",
   "execution_count": 8,
   "id": "9c509430",
   "metadata": {},
   "outputs": [
    {
     "data": {
      "image/png": "[encoded data removed]",
      "text/plain": [
       "<Figure size 600x200 with 1 Axes>"
      ]
     },
     "metadata": {},
     "output_type": "display_data"
    }
   ],
   "source": [
    "plt.figure(figsize=(6, 2))\n",
    "\n",
    "sns.histplot(altona_df['Price'], kde=True)\n",
    "plt.title('Distribution of prices in altona')\n",
    "plt.xlabel('Price', fontsize=12)\n",
    "plt.ylabel('Frequency', fontsize=12)\n",
    "plt.show()"
   ]
  },
  {
   "cell_type": "markdown",
   "id": "f8f0d8ff",
   "metadata": {},
   "source": [
    "**Conclusion:**\n",
    "The data for Altona does not follow a normal distribution. This implies that statistical methods relying on normality assumptions (e.g., t-tests, parametric ANOVA) might not be suitable for this data. Instead, you might consider non-parametric tests, such as the Mann-Whitney U test or Wilcoxon Signed-Rank Test , depending on your analysis requirements."
   ]
  },
  {
   "cell_type": "markdown",
   "id": "0add8bbb",
   "metadata": {},
   "source": [
    "## Wilcoxon Signed-Rank Test\n",
    "- **Null Hypothesis (𝐻0): The mean property price in Altona is 800,000 dollar**\n",
    "- **Alternative Hypothesis (𝐻1): The mean property price in Altona is greater than 800,000 dollar**\n",
    "\n",
    "- **Interpret the p-value (significance level):**\n",
    "**If p < 0.05, reject 𝐻0 and conclude the mean price has increased.\n",
    "Otherwise, fail to reject 𝐻0.**"
   ]
  },
  {
   "cell_type": "code",
   "execution_count": 9,
   "id": "0daacfc2",
   "metadata": {},
   "outputs": [
    {
     "name": "stdout",
     "output_type": "stream",
     "text": [
      "Wilcoxon Signed-Rank Test: Stat=1381.0000, P-value=0.433417\n",
      "Fail to reject the null hypothesis: Insufficient evidence to conclude the median property price is greater than 800,000 dollars.\n"
     ]
    }
   ],
   "source": [
    "from scipy.stats import wilcoxon\n",
    "property_prices = altona_df['Price']  # the target column\n",
    "\n",
    "# Hypothesized median\n",
    "hypothesized_price = 800000\n",
    "\n",
    "# Calculate deviations from the hypothesized value\n",
    "deviations = property_prices - hypothesized_price\n",
    "\n",
    "# Perform one-sided Wilcoxon Signed-Rank Test\n",
    "# Note: `alternative='greater'` is used to test if the property prices are greater than 800,000\n",
    "stat, p_value = wilcoxon(deviations, alternative='greater')\n",
    "\n",
    "# Print the results\n",
    "print(f\"Wilcoxon Signed-Rank Test: Stat={stat:.4f}, P-value={p_value:.6f}\")\n",
    "\n",
    "# Interpret the results\n",
    "alpha = 0.05\n",
    "if p_value < alpha:\n",
    "    print(\"Reject the null hypothesis: The median property price is significantly greater than 800,000 dollars.\")\n",
    "else:\n",
    "    print(\"Fail to reject the null hypothesis: Insufficient evidence to conclude the median property price is greater than 800,000 dollars.\")\n"
   ]
  },
  {
   "cell_type": "markdown",
   "id": "e40e7fe6",
   "metadata": {},
   "source": [
    "**Conclusion:**\n",
    "- There is insufficient evidence to support the claim that the mean property price in Altona is greater than 800,000 dollar.\n",
    "- This suggests that the observed data does not provide strong enough support to conclude an increase in the mean property price.\n",
    "- The Wilcoxon Signed-Rank Test, which evaluates the median rather than the mean, indicates that the observed data does not strongly support an increase in the property price."
   ]
  },
  {
   "cell_type": "markdown",
   "id": "2ecf9438",
   "metadata": {},
   "source": [
    "**Non-Normal Distribution:**\n",
    "- The earlier Shapiro-Wilk test showed that the property price data for Altona is not normally distributed. In such cases, the mean can be heavily influenced by outliers or skewed data, while the median provides a more robust measure of central tendency.\n",
    "- The Wilcoxon Signed-Rank Test specifically evaluates the median differences, making the use of the median consistent with the statistical method applied."
   ]
  }
 ],
 "metadata": {
  "kernelspec": {
   "display_name": "Python 3 (ipykernel)",
   "language": "python",
   "name": "python3"
  },
  "language_info": {
   "codemirror_mode": {
    "name": "ipython",
    "version": 3
   },
   "file_extension": ".py",
   "mimetype": "text/x-python",
   "name": "python",
   "nbconvert_exporter": "python",
   "pygments_lexer": "ipython3",
   "version": "3.11.5"
  }
 },
 "nbformat": 4,
 "nbformat_minor": 5
}
